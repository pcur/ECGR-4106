{
 "cells": [
  {
   "cell_type": "markdown",
   "id": "526390de",
   "metadata": {},
   "source": [
    "Homework instructions:\n",
    "\n",
    "You will submit: (1) a report (pdf file) that explains your answers for each problem. The report MUST contain the link to your Github repository to access the source code you have developed for this homework. Your report should contain your name, student ID, and homework number. (2) a second pdf file that contains both source codes, results, and plots you have developed and plotted for this homework. You can easily generate this pdf in Jupyter Lab or Jupyter Notebook (sample pdf provided on Canvas.). The pdf file name should contain your name, student ID, and homework number.\n",
    "In your report, provide separate and clear responses for each problem. Make reasonable assumptions where necessary and clearly state them! Be sure to show all the work involved in deriving your answers! If you just give a final answer without explanation, you may not receive credit for that question. \n",
    "You may discuss concepts with your classmates. This fosters group learning and improves the class’ progress. However, make sure to submit your own independent and individual solutions. \n",
    "Make sure to use Google Collab (with GPU addon option), or your personal GPU card for the training.\n",
    " "
   ]
  },
  {
   "cell_type": "markdown",
   "id": "55c02b58",
   "metadata": {},
   "source": [
    "Problem 1 (60 points)\n",
    "\n",
    "Develop a multi-layer perceptron with two hidden layers (you pick the dimensions of the hidden layers) for Fashionmnst dataset.\n",
    "\n",
    "1.a. train the model from scratch (with randomized parameters) and plot the results (training loss and accuracy, validation accuracy) after 20 epochs. Does your network need more epochs for full training? Do you observe overfitting? Make sure to save the trained parameters and model.  (10pts)\n",
    "\n",
    "1.b Report section a; this time add weight penalties (weight decays). Report and plot your training results. how do the training results change compared to the baseline? (15pts)\n",
    "\n",
    "1.c Report section a; this time add dropout (dropout = 0.3). Report and plot your training results. how do the training results change compared to the baseline? How the training results change compared to the weight penalties. (15pts)\n",
    "\n",
    "1.d. repeat problems 1.b and 1.c; this time, load the pre-trained parameters from the storage. Plot the training results, and compare the training time and number of epochs needed against 1.b and 1.c. (20pts)\n"
   ]
  },
  {
   "cell_type": "markdown",
   "id": "43ae4304",
   "metadata": {},
   "source": [
    "Problem 2  (60 points)\n",
    "\n",
    "For the housing dataset, we overviewed during the lectures; please implemt the following steps.\n",
    "\n",
    "2.a What happens if we need to standardize the continuous numerical features like what we have done in this section? (10pt)\n",
    "\n",
    "2.b Improve the score by improving the model complexity. Please plot the training results and compare them against the baseline model we did in the lectures. How about the model complexity comparison and training time? (15pt)\n",
    "\n",
    "2.c How about exploring options for weight decay and dropout over the more complex model? Please plot the results and compare them against 2.b (10pt)\n",
    "\n",
    "2.d Submit your best predictions to Kaggle. How good are your predictions? (5pts)\n"
   ]
  }
 ],
 "metadata": {
  "kernelspec": {
   "display_name": "Python 3 (ipykernel)",
   "language": "python",
   "name": "python3"
  },
  "language_info": {
   "codemirror_mode": {
    "name": "ipython",
    "version": 3
   },
   "file_extension": ".py",
   "mimetype": "text/x-python",
   "name": "python",
   "nbconvert_exporter": "python",
   "pygments_lexer": "ipython3",
   "version": "3.9.15"
  }
 },
 "nbformat": 4,
 "nbformat_minor": 5
}
